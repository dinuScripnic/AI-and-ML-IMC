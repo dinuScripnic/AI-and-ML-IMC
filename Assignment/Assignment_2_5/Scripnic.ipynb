{
 "cells": [
  {
   "attachments": {},
   "cell_type": "markdown",
   "metadata": {},
   "source": [
    "!pip install pandas, numpy, scikit-learn, plotly\n",
    "1. Import all the necessary libraries\n",
    " "
   ]
  },
  {
   "cell_type": "code",
   "execution_count": 45,
   "metadata": {},
   "outputs": [],
   "source": [
    "\n",
    "import pandas as pd\n",
    "import numpy as np\n",
    "from sklearn.neighbors import KNeighborsClassifier\n",
    "from sklearn.metrics import recall_score, precision_score, f1_score, accuracy_score\n",
    "import plotly.express as px\n",
    "from pycaret.classification import *\n",
    "from pprint import pprint\n"
   ]
  },
  {
   "attachments": {},
   "cell_type": "markdown",
   "metadata": {},
   "source": [
    "This function will clean the data, by that is ment that nan values will be removed and data will be split in X and y"
   ]
  },
  {
   "cell_type": "code",
   "execution_count": 46,
   "metadata": {},
   "outputs": [],
   "source": [
    "# Cleaning Function\n",
    "def clean_data(df: pd.DataFrame) -> tuple[pd.DataFrame, pd.core.series.Series]:\n",
    "    \"\"\"\n",
    "    Clean the data by removing the missing values.\n",
    "    Args:\n",
    "        data (pd.DataFrame): dataframe with the data\n",
    "\n",
    "    Returns:\n",
    "        tuple[pd.DataFrame, pd.core.series.Series]: tuple with the cleaned data, first element is the dataframe with the variables and the second element is the series with the labels\n",
    "    \"\"\"\n",
    "    data = df.copy()\n",
    "    data = data.drop(\n",
    "        13, axis=1\n",
    "    )  # we are removing column 13 because it has 10k missing values\n",
    "    data = data.dropna(axis=0)  # we are removing all rows with missing values\n",
    "    X = data.iloc[:, 0:15]  # we are creating a dataframe with all the variables\n",
    "    y = data.iloc[:, 15]  # we are creating a series with the labels\n",
    "    return X, y  # return the cleaned data"
   ]
  },
  {
   "attachments": {},
   "cell_type": "markdown",
   "metadata": {},
   "source": [
    "2. Import the data"
   ]
  },
  {
   "cell_type": "code",
   "execution_count": 47,
   "metadata": {},
   "outputs": [],
   "source": [
    "train = pd.read_csv(\n",
    "    \"https://onedrive.live.com/download?resid=4C66E14E953F6D39!9922&authkey=!AJL6R66cYHl1E0Q\",\n",
    "    header=None,\n",
    ")\n",
    "# Also I loaded the test data, but i will use it later for testing\n",
    "test = pd.read_csv(\n",
    "    \"https://onedrive.live.com/download?resid=4C66E14E953F6D39!9921&authkey=!AP0enoDbayF1mbE\",\n",
    "    header=None,\n",
    ")\n",
    "X_train, y_train = clean_data(train)\n",
    "X_test, y_test = clean_data(test)"
   ]
  },
  {
   "attachments": {},
   "cell_type": "markdown",
   "metadata": {},
   "source": [
    "3. kNN"
   ]
  },
  {
   "attachments": {},
   "cell_type": "markdown",
   "metadata": {},
   "source": [
    "3.1. Find the best number of neighbors"
   ]
  },
  {
   "cell_type": "code",
   "execution_count": 48,
   "metadata": {},
   "outputs": [
    {
     "name": "stdout",
     "output_type": "stream",
     "text": [
      "   Number of neighbors  Accuracy on train  Accuracy on test\n",
      "0                    1           1.000000          0.884735\n",
      "1                    3           0.937410          0.906765\n",
      "2                    5           0.918490          0.909657\n",
      "3                    7           0.911323          0.911660\n",
      "4                    9           0.906355          0.909657\n",
      "5                   11           0.899570          0.908767\n",
      "6                   13           0.895461          0.902759\n",
      "7                   15           0.892403          0.901202\n",
      "8                   17           0.888963          0.902092\n",
      "9                   19           0.883421          0.897419\n"
     ]
    }
   ],
   "source": [
    "index = np.arange(1, 20, 2)\n",
    "test_accuracy = np.array([])\n",
    "train_accuracy = np.array([])\n",
    "for i in np.arange(1, 20, 2):\n",
    "    # 3. Create the model\n",
    "    model = KNeighborsClassifier(\n",
    "        n_neighbors=i,\n",
    "    )\n",
    "\n",
    "    # 4. Train the model\n",
    "    model.fit(X_train, y_train)\n",
    "\n",
    "    # 5. Test the model\n",
    "    train_accuracy = np.append(train_accuracy, model.score(X_train, y_train))\n",
    "    test_accuracy = np.append(test_accuracy, model.score(X_test, y_test))\n",
    "df = pd.DataFrame(\n",
    "    {\n",
    "        \"Number of neighbors\": index,\n",
    "        \"Accuracy on train\": train_accuracy,\n",
    "        \"Accuracy on test\": test_accuracy,\n",
    "    }\n",
    ")\n",
    "print(df)"
   ]
  },
  {
   "attachments": {},
   "cell_type": "markdown",
   "metadata": {},
   "source": [
    "3.2. Plot the results to visualize the best number of neighbors"
   ]
  },
  {
   "cell_type": "code",
   "execution_count": 49,
   "metadata": {},
   "outputs": [
    {
     "data": {
      "application/vnd.plotly.v1+json": {
       "config": {
        "plotlyServerURL": "https://plot.ly"
       },
       "data": [
        {
         "legendgroup": "Accuracy on train",
         "line": {
          "color": "#636efa",
          "dash": "solid"
         },
         "marker": {
          "symbol": "circle"
         },
         "mode": "markers+lines",
         "name": "Accuracy on train",
         "orientation": "v",
         "showlegend": true,
         "type": "scatter",
         "x": [
          1,
          3,
          5,
          7,
          9,
          11,
          13,
          15,
          17,
          19
         ],
         "xaxis": "x",
         "y": [
          1,
          0.9374104156712852,
          0.9184902054467272,
          0.9113234591495462,
          0.9063545150501672,
          0.8995699952221692,
          0.895461060678452,
          0.892403248924988,
          0.8889632107023412,
          0.8834209268991877
         ],
         "yaxis": "y"
        },
        {
         "legendgroup": "Accuracy on test",
         "line": {
          "color": "#EF553B",
          "dash": "solid"
         },
         "marker": {
          "symbol": "circle"
         },
         "mode": "markers+lines",
         "name": "Accuracy on test",
         "orientation": "v",
         "showlegend": true,
         "type": "scatter",
         "x": [
          1,
          3,
          5,
          7,
          9,
          11,
          13,
          15,
          17,
          19
         ],
         "xaxis": "x",
         "y": [
          0.8847352024922118,
          0.9067645749888741,
          0.9096573208722741,
          0.9116599910992434,
          0.9096573208722741,
          0.9087672452158434,
          0.9027592345349355,
          0.9012016021361816,
          0.9020916777926123,
          0.8974187805963507
         ],
         "yaxis": "y"
        }
       ],
       "layout": {
        "hovermode": "x",
        "legend": {
         "title": {
          "text": "variable"
         },
         "tracegroupgap": 0
        },
        "template": {
         "data": {
          "bar": [
           {
            "error_x": {
             "color": "#2a3f5f"
            },
            "error_y": {
             "color": "#2a3f5f"
            },
            "marker": {
             "line": {
              "color": "#E5ECF6",
              "width": 0.5
             },
             "pattern": {
              "fillmode": "overlay",
              "size": 10,
              "solidity": 0.2
             }
            },
            "type": "bar"
           }
          ],
          "barpolar": [
           {
            "marker": {
             "line": {
              "color": "#E5ECF6",
              "width": 0.5
             },
             "pattern": {
              "fillmode": "overlay",
              "size": 10,
              "solidity": 0.2
             }
            },
            "type": "barpolar"
           }
          ],
          "carpet": [
           {
            "aaxis": {
             "endlinecolor": "#2a3f5f",
             "gridcolor": "white",
             "linecolor": "white",
             "minorgridcolor": "white",
             "startlinecolor": "#2a3f5f"
            },
            "baxis": {
             "endlinecolor": "#2a3f5f",
             "gridcolor": "white",
             "linecolor": "white",
             "minorgridcolor": "white",
             "startlinecolor": "#2a3f5f"
            },
            "type": "carpet"
           }
          ],
          "choropleth": [
           {
            "colorbar": {
             "outlinewidth": 0,
             "ticks": ""
            },
            "type": "choropleth"
           }
          ],
          "contour": [
           {
            "colorbar": {
             "outlinewidth": 0,
             "ticks": ""
            },
            "colorscale": [
             [
              0,
              "#0d0887"
             ],
             [
              0.1111111111111111,
              "#46039f"
             ],
             [
              0.2222222222222222,
              "#7201a8"
             ],
             [
              0.3333333333333333,
              "#9c179e"
             ],
             [
              0.4444444444444444,
              "#bd3786"
             ],
             [
              0.5555555555555556,
              "#d8576b"
             ],
             [
              0.6666666666666666,
              "#ed7953"
             ],
             [
              0.7777777777777778,
              "#fb9f3a"
             ],
             [
              0.8888888888888888,
              "#fdca26"
             ],
             [
              1,
              "#f0f921"
             ]
            ],
            "type": "contour"
           }
          ],
          "contourcarpet": [
           {
            "colorbar": {
             "outlinewidth": 0,
             "ticks": ""
            },
            "type": "contourcarpet"
           }
          ],
          "heatmap": [
           {
            "colorbar": {
             "outlinewidth": 0,
             "ticks": ""
            },
            "colorscale": [
             [
              0,
              "#0d0887"
             ],
             [
              0.1111111111111111,
              "#46039f"
             ],
             [
              0.2222222222222222,
              "#7201a8"
             ],
             [
              0.3333333333333333,
              "#9c179e"
             ],
             [
              0.4444444444444444,
              "#bd3786"
             ],
             [
              0.5555555555555556,
              "#d8576b"
             ],
             [
              0.6666666666666666,
              "#ed7953"
             ],
             [
              0.7777777777777778,
              "#fb9f3a"
             ],
             [
              0.8888888888888888,
              "#fdca26"
             ],
             [
              1,
              "#f0f921"
             ]
            ],
            "type": "heatmap"
           }
          ],
          "heatmapgl": [
           {
            "colorbar": {
             "outlinewidth": 0,
             "ticks": ""
            },
            "colorscale": [
             [
              0,
              "#0d0887"
             ],
             [
              0.1111111111111111,
              "#46039f"
             ],
             [
              0.2222222222222222,
              "#7201a8"
             ],
             [
              0.3333333333333333,
              "#9c179e"
             ],
             [
              0.4444444444444444,
              "#bd3786"
             ],
             [
              0.5555555555555556,
              "#d8576b"
             ],
             [
              0.6666666666666666,
              "#ed7953"
             ],
             [
              0.7777777777777778,
              "#fb9f3a"
             ],
             [
              0.8888888888888888,
              "#fdca26"
             ],
             [
              1,
              "#f0f921"
             ]
            ],
            "type": "heatmapgl"
           }
          ],
          "histogram": [
           {
            "marker": {
             "pattern": {
              "fillmode": "overlay",
              "size": 10,
              "solidity": 0.2
             }
            },
            "type": "histogram"
           }
          ],
          "histogram2d": [
           {
            "colorbar": {
             "outlinewidth": 0,
             "ticks": ""
            },
            "colorscale": [
             [
              0,
              "#0d0887"
             ],
             [
              0.1111111111111111,
              "#46039f"
             ],
             [
              0.2222222222222222,
              "#7201a8"
             ],
             [
              0.3333333333333333,
              "#9c179e"
             ],
             [
              0.4444444444444444,
              "#bd3786"
             ],
             [
              0.5555555555555556,
              "#d8576b"
             ],
             [
              0.6666666666666666,
              "#ed7953"
             ],
             [
              0.7777777777777778,
              "#fb9f3a"
             ],
             [
              0.8888888888888888,
              "#fdca26"
             ],
             [
              1,
              "#f0f921"
             ]
            ],
            "type": "histogram2d"
           }
          ],
          "histogram2dcontour": [
           {
            "colorbar": {
             "outlinewidth": 0,
             "ticks": ""
            },
            "colorscale": [
             [
              0,
              "#0d0887"
             ],
             [
              0.1111111111111111,
              "#46039f"
             ],
             [
              0.2222222222222222,
              "#7201a8"
             ],
             [
              0.3333333333333333,
              "#9c179e"
             ],
             [
              0.4444444444444444,
              "#bd3786"
             ],
             [
              0.5555555555555556,
              "#d8576b"
             ],
             [
              0.6666666666666666,
              "#ed7953"
             ],
             [
              0.7777777777777778,
              "#fb9f3a"
             ],
             [
              0.8888888888888888,
              "#fdca26"
             ],
             [
              1,
              "#f0f921"
             ]
            ],
            "type": "histogram2dcontour"
           }
          ],
          "mesh3d": [
           {
            "colorbar": {
             "outlinewidth": 0,
             "ticks": ""
            },
            "type": "mesh3d"
           }
          ],
          "parcoords": [
           {
            "line": {
             "colorbar": {
              "outlinewidth": 0,
              "ticks": ""
             }
            },
            "type": "parcoords"
           }
          ],
          "pie": [
           {
            "automargin": true,
            "type": "pie"
           }
          ],
          "scatter": [
           {
            "fillpattern": {
             "fillmode": "overlay",
             "size": 10,
             "solidity": 0.2
            },
            "type": "scatter"
           }
          ],
          "scatter3d": [
           {
            "line": {
             "colorbar": {
              "outlinewidth": 0,
              "ticks": ""
             }
            },
            "marker": {
             "colorbar": {
              "outlinewidth": 0,
              "ticks": ""
             }
            },
            "type": "scatter3d"
           }
          ],
          "scattercarpet": [
           {
            "marker": {
             "colorbar": {
              "outlinewidth": 0,
              "ticks": ""
             }
            },
            "type": "scattercarpet"
           }
          ],
          "scattergeo": [
           {
            "marker": {
             "colorbar": {
              "outlinewidth": 0,
              "ticks": ""
             }
            },
            "type": "scattergeo"
           }
          ],
          "scattergl": [
           {
            "marker": {
             "colorbar": {
              "outlinewidth": 0,
              "ticks": ""
             }
            },
            "type": "scattergl"
           }
          ],
          "scattermapbox": [
           {
            "marker": {
             "colorbar": {
              "outlinewidth": 0,
              "ticks": ""
             }
            },
            "type": "scattermapbox"
           }
          ],
          "scatterpolar": [
           {
            "marker": {
             "colorbar": {
              "outlinewidth": 0,
              "ticks": ""
             }
            },
            "type": "scatterpolar"
           }
          ],
          "scatterpolargl": [
           {
            "marker": {
             "colorbar": {
              "outlinewidth": 0,
              "ticks": ""
             }
            },
            "type": "scatterpolargl"
           }
          ],
          "scatterternary": [
           {
            "marker": {
             "colorbar": {
              "outlinewidth": 0,
              "ticks": ""
             }
            },
            "type": "scatterternary"
           }
          ],
          "surface": [
           {
            "colorbar": {
             "outlinewidth": 0,
             "ticks": ""
            },
            "colorscale": [
             [
              0,
              "#0d0887"
             ],
             [
              0.1111111111111111,
              "#46039f"
             ],
             [
              0.2222222222222222,
              "#7201a8"
             ],
             [
              0.3333333333333333,
              "#9c179e"
             ],
             [
              0.4444444444444444,
              "#bd3786"
             ],
             [
              0.5555555555555556,
              "#d8576b"
             ],
             [
              0.6666666666666666,
              "#ed7953"
             ],
             [
              0.7777777777777778,
              "#fb9f3a"
             ],
             [
              0.8888888888888888,
              "#fdca26"
             ],
             [
              1,
              "#f0f921"
             ]
            ],
            "type": "surface"
           }
          ],
          "table": [
           {
            "cells": {
             "fill": {
              "color": "#EBF0F8"
             },
             "line": {
              "color": "white"
             }
            },
            "header": {
             "fill": {
              "color": "#C8D4E3"
             },
             "line": {
              "color": "white"
             }
            },
            "type": "table"
           }
          ]
         },
         "layout": {
          "annotationdefaults": {
           "arrowcolor": "#2a3f5f",
           "arrowhead": 0,
           "arrowwidth": 1
          },
          "autotypenumbers": "strict",
          "coloraxis": {
           "colorbar": {
            "outlinewidth": 0,
            "ticks": ""
           }
          },
          "colorscale": {
           "diverging": [
            [
             0,
             "#8e0152"
            ],
            [
             0.1,
             "#c51b7d"
            ],
            [
             0.2,
             "#de77ae"
            ],
            [
             0.3,
             "#f1b6da"
            ],
            [
             0.4,
             "#fde0ef"
            ],
            [
             0.5,
             "#f7f7f7"
            ],
            [
             0.6,
             "#e6f5d0"
            ],
            [
             0.7,
             "#b8e186"
            ],
            [
             0.8,
             "#7fbc41"
            ],
            [
             0.9,
             "#4d9221"
            ],
            [
             1,
             "#276419"
            ]
           ],
           "sequential": [
            [
             0,
             "#0d0887"
            ],
            [
             0.1111111111111111,
             "#46039f"
            ],
            [
             0.2222222222222222,
             "#7201a8"
            ],
            [
             0.3333333333333333,
             "#9c179e"
            ],
            [
             0.4444444444444444,
             "#bd3786"
            ],
            [
             0.5555555555555556,
             "#d8576b"
            ],
            [
             0.6666666666666666,
             "#ed7953"
            ],
            [
             0.7777777777777778,
             "#fb9f3a"
            ],
            [
             0.8888888888888888,
             "#fdca26"
            ],
            [
             1,
             "#f0f921"
            ]
           ],
           "sequentialminus": [
            [
             0,
             "#0d0887"
            ],
            [
             0.1111111111111111,
             "#46039f"
            ],
            [
             0.2222222222222222,
             "#7201a8"
            ],
            [
             0.3333333333333333,
             "#9c179e"
            ],
            [
             0.4444444444444444,
             "#bd3786"
            ],
            [
             0.5555555555555556,
             "#d8576b"
            ],
            [
             0.6666666666666666,
             "#ed7953"
            ],
            [
             0.7777777777777778,
             "#fb9f3a"
            ],
            [
             0.8888888888888888,
             "#fdca26"
            ],
            [
             1,
             "#f0f921"
            ]
           ]
          },
          "colorway": [
           "#636efa",
           "#EF553B",
           "#00cc96",
           "#ab63fa",
           "#FFA15A",
           "#19d3f3",
           "#FF6692",
           "#B6E880",
           "#FF97FF",
           "#FECB52"
          ],
          "font": {
           "color": "#2a3f5f"
          },
          "geo": {
           "bgcolor": "white",
           "lakecolor": "white",
           "landcolor": "#E5ECF6",
           "showlakes": true,
           "showland": true,
           "subunitcolor": "white"
          },
          "hoverlabel": {
           "align": "left"
          },
          "hovermode": "closest",
          "mapbox": {
           "style": "light"
          },
          "paper_bgcolor": "white",
          "plot_bgcolor": "#E5ECF6",
          "polar": {
           "angularaxis": {
            "gridcolor": "white",
            "linecolor": "white",
            "ticks": ""
           },
           "bgcolor": "#E5ECF6",
           "radialaxis": {
            "gridcolor": "white",
            "linecolor": "white",
            "ticks": ""
           }
          },
          "scene": {
           "xaxis": {
            "backgroundcolor": "#E5ECF6",
            "gridcolor": "white",
            "gridwidth": 2,
            "linecolor": "white",
            "showbackground": true,
            "ticks": "",
            "zerolinecolor": "white"
           },
           "yaxis": {
            "backgroundcolor": "#E5ECF6",
            "gridcolor": "white",
            "gridwidth": 2,
            "linecolor": "white",
            "showbackground": true,
            "ticks": "",
            "zerolinecolor": "white"
           },
           "zaxis": {
            "backgroundcolor": "#E5ECF6",
            "gridcolor": "white",
            "gridwidth": 2,
            "linecolor": "white",
            "showbackground": true,
            "ticks": "",
            "zerolinecolor": "white"
           }
          },
          "shapedefaults": {
           "line": {
            "color": "#2a3f5f"
           }
          },
          "ternary": {
           "aaxis": {
            "gridcolor": "white",
            "linecolor": "white",
            "ticks": ""
           },
           "baxis": {
            "gridcolor": "white",
            "linecolor": "white",
            "ticks": ""
           },
           "bgcolor": "#E5ECF6",
           "caxis": {
            "gridcolor": "white",
            "linecolor": "white",
            "ticks": ""
           }
          },
          "title": {
           "x": 0.05
          },
          "xaxis": {
           "automargin": true,
           "gridcolor": "white",
           "linecolor": "white",
           "ticks": "",
           "title": {
            "standoff": 15
           },
           "zerolinecolor": "white",
           "zerolinewidth": 2
          },
          "yaxis": {
           "automargin": true,
           "gridcolor": "white",
           "linecolor": "white",
           "ticks": "",
           "title": {
            "standoff": 15
           },
           "zerolinecolor": "white",
           "zerolinewidth": 2
          }
         }
        },
        "title": {
         "text": "Accuracy of the model"
        },
        "xaxis": {
         "anchor": "y",
         "domain": [
          0,
          1
         ],
         "title": {
          "text": "Number of neighbors"
         }
        },
        "yaxis": {
         "anchor": "x",
         "domain": [
          0,
          1
         ],
         "title": {
          "text": "Accuracy"
         }
        }
       }
      }
     },
     "metadata": {},
     "output_type": "display_data"
    }
   ],
   "source": [
    "fig = px.line(\n",
    "    df, x=\"Number of neighbors\", y=[\"Accuracy on train\", \"Accuracy on test\"],\n",
    "    title=\"layout.hovermode='x'\"\n",
    ")  # create the plot\n",
    "fig.update_traces(mode=\"markers+lines\", hovertemplate=None)  # add the markers and the lines\n",
    "fig.update_layout(\n",
    "    title=\"Accuracy of the model\",\n",
    "    xaxis_title=\"Number of neighbors\",\n",
    "    yaxis_title=\"Accuracy\",\n",
    "    hovermode=\"x\",\n",
    ")  # add the title and the axis labels\n",
    "# set the scale of the x axis\n",
    "fig.show()"
   ]
  },
  {
   "attachments": {},
   "cell_type": "markdown",
   "metadata": {},
   "source": [
    "3.3 Find the best metric"
   ]
  },
  {
   "cell_type": "code",
   "execution_count": 50,
   "metadata": {},
   "outputs": [
    {
     "name": "stdout",
     "output_type": "stream",
     "text": [
      "[('manhattan', 0.9127725856697819),\n",
      " ('euclidean', 0.9116599910992434),\n",
      " ('minkowski', 0.9116599910992434),\n",
      " ('chebyshev', 0.8851802403204272)]\n"
     ]
    }
   ],
   "source": [
    "# Considering that our data constains only numerical values, we can pick metrics that are suitable for numerical data\n",
    "metrics = [\"euclidean\", \"manhattan\", \"chebyshev\", \"minkowski\"]\n",
    "out = []\n",
    "for metric in metrics:\n",
    "    model = KNeighborsClassifier(n_neighbors=7, metric=metric, n_jobs=-1)\n",
    "    model.fit(X_train, y_train)\n",
    "    out.append((metric, model.score(X_test, y_test)))\n",
    "# sort the list by the accuracy\n",
    "out.sort(key=lambda x: x[1], reverse=True)\n",
    "pprint(out)"
   ]
  },
  {
   "attachments": {},
   "cell_type": "markdown",
   "metadata": {},
   "source": [
    "3.4 Create the best model"
   ]
  },
  {
   "cell_type": "code",
   "execution_count": 51,
   "metadata": {},
   "outputs": [],
   "source": [
    "best_knn = KNeighborsClassifier(n_neighbors=7, metric=\"manhattan\", n_jobs=-1)\n",
    "best_knn.fit(X_train, y_train)\n",
    "pred = best_knn.predict(X_test)"
   ]
  },
  {
   "attachments": {},
   "cell_type": "markdown",
   "metadata": {},
   "source": [
    "3.5 Print the results of the best model\n"
   ]
  },
  {
   "cell_type": "code",
   "execution_count": 52,
   "metadata": {},
   "outputs": [
    {
     "name": "stdout",
     "output_type": "stream",
     "text": [
      "\n",
      "Accuracy: 0.9127725856697819\n",
      "Precision: 0.9399193548387097\n",
      "Recall: 0.9055944055944056\n",
      "F1: 0.922437673130194\n",
      "\n"
     ]
    }
   ],
   "source": [
    "print(\n",
    "f\"\"\"\n",
    "Accuracy: {accuracy_score(pred, y_test)}\n",
    "Precision: {precision_score(pred, y_test)}\n",
    "Recall: {recall_score(pred, y_test)}\n",
    "F1: {f1_score(pred, y_test)}\n",
    "\"\"\"\n",
    ")"
   ]
  },
  {
   "attachments": {},
   "cell_type": "markdown",
   "metadata": {},
   "source": [
    "4. Caret"
   ]
  },
  {
   "cell_type": "code",
   "execution_count": 63,
   "metadata": {},
   "outputs": [
    {
     "name": "stdout",
     "output_type": "stream",
     "text": [
      "0      float64\n",
      "1      float64\n",
      "2      float64\n",
      "3      float64\n",
      "4      float64\n",
      "5      float64\n",
      "6      float64\n",
      "7      float64\n",
      "8      float64\n",
      "9      float64\n",
      "10     float64\n",
      "11     float64\n",
      "12     float64\n",
      "14     float64\n",
      "15     float64\n",
      "16    category\n",
      "dtype: object\n"
     ]
    }
   ],
   "source": [
    "# prepare the train and test data for pycaret\n",
    "train = pd.concat([X_train, y_train], axis=1)\n",
    "test = pd.concat([X_test, y_test], axis=1)\n",
    "# convvert the last column to categorical\n",
    "train.iloc[:, -1] = train.iloc[:, -1].astype(\"category\")\n",
    "test.iloc[:, -1] = test.iloc[:, -1].astype(\"category\")"
   ]
  },
  {
   "attachments": {},
   "cell_type": "markdown",
   "metadata": {},
   "source": [
    "In pycaret everything works around the concept of experiment\n",
    "so as first step we will create this experimetn\n",
    "in experiment is mandatory to specify the data, target value and the categorical features\n",
    "In order to specify the categorical features we have to create a list with column names that are categorical,\n",
    "then in the setup to write the parameter categorical_features = list_of_categorical_features"
   ]
  },
  {
   "cell_type": "code",
   "execution_count": 68,
   "metadata": {},
   "outputs": [
    {
     "data": {
      "text/html": [
       "<style type=\"text/css\">\n",
       "#T_a64c5_row9_col1 {\n",
       "  background-color: lightgreen;\n",
       "}\n",
       "</style>\n",
       "<table id=\"T_a64c5\">\n",
       "  <thead>\n",
       "    <tr>\n",
       "      <th class=\"blank level0\" >&nbsp;</th>\n",
       "      <th id=\"T_a64c5_level0_col0\" class=\"col_heading level0 col0\" >Description</th>\n",
       "      <th id=\"T_a64c5_level0_col1\" class=\"col_heading level0 col1\" >Value</th>\n",
       "    </tr>\n",
       "  </thead>\n",
       "  <tbody>\n",
       "    <tr>\n",
       "      <th id=\"T_a64c5_level0_row0\" class=\"row_heading level0 row0\" >0</th>\n",
       "      <td id=\"T_a64c5_row0_col0\" class=\"data row0 col0\" >Session id</td>\n",
       "      <td id=\"T_a64c5_row0_col1\" class=\"data row0 col1\" >1632</td>\n",
       "    </tr>\n",
       "    <tr>\n",
       "      <th id=\"T_a64c5_level0_row1\" class=\"row_heading level0 row1\" >1</th>\n",
       "      <td id=\"T_a64c5_row1_col0\" class=\"data row1 col0\" >Target</td>\n",
       "      <td id=\"T_a64c5_row1_col1\" class=\"data row1 col1\" >16</td>\n",
       "    </tr>\n",
       "    <tr>\n",
       "      <th id=\"T_a64c5_level0_row2\" class=\"row_heading level0 row2\" >2</th>\n",
       "      <td id=\"T_a64c5_row2_col0\" class=\"data row2 col0\" >Target type</td>\n",
       "      <td id=\"T_a64c5_row2_col1\" class=\"data row2 col1\" >Binary</td>\n",
       "    </tr>\n",
       "    <tr>\n",
       "      <th id=\"T_a64c5_level0_row3\" class=\"row_heading level0 row3\" >3</th>\n",
       "      <td id=\"T_a64c5_row3_col0\" class=\"data row3 col0\" >Target mapping</td>\n",
       "      <td id=\"T_a64c5_row3_col1\" class=\"data row3 col1\" >1: 0, 2: 1</td>\n",
       "    </tr>\n",
       "    <tr>\n",
       "      <th id=\"T_a64c5_level0_row4\" class=\"row_heading level0 row4\" >4</th>\n",
       "      <td id=\"T_a64c5_row4_col0\" class=\"data row4 col0\" >Original data shape</td>\n",
       "      <td id=\"T_a64c5_row4_col1\" class=\"data row4 col1\" >(10465, 16)</td>\n",
       "    </tr>\n",
       "    <tr>\n",
       "      <th id=\"T_a64c5_level0_row5\" class=\"row_heading level0 row5\" >5</th>\n",
       "      <td id=\"T_a64c5_row5_col0\" class=\"data row5 col0\" >Transformed data shape</td>\n",
       "      <td id=\"T_a64c5_row5_col1\" class=\"data row5 col1\" >(10465, 16)</td>\n",
       "    </tr>\n",
       "    <tr>\n",
       "      <th id=\"T_a64c5_level0_row6\" class=\"row_heading level0 row6\" >6</th>\n",
       "      <td id=\"T_a64c5_row6_col0\" class=\"data row6 col0\" >Transformed train set shape</td>\n",
       "      <td id=\"T_a64c5_row6_col1\" class=\"data row6 col1\" >(7325, 16)</td>\n",
       "    </tr>\n",
       "    <tr>\n",
       "      <th id=\"T_a64c5_level0_row7\" class=\"row_heading level0 row7\" >7</th>\n",
       "      <td id=\"T_a64c5_row7_col0\" class=\"data row7 col0\" >Transformed test set shape</td>\n",
       "      <td id=\"T_a64c5_row7_col1\" class=\"data row7 col1\" >(3140, 16)</td>\n",
       "    </tr>\n",
       "    <tr>\n",
       "      <th id=\"T_a64c5_level0_row8\" class=\"row_heading level0 row8\" >8</th>\n",
       "      <td id=\"T_a64c5_row8_col0\" class=\"data row8 col0\" >Numeric features</td>\n",
       "      <td id=\"T_a64c5_row8_col1\" class=\"data row8 col1\" >15</td>\n",
       "    </tr>\n",
       "    <tr>\n",
       "      <th id=\"T_a64c5_level0_row9\" class=\"row_heading level0 row9\" >9</th>\n",
       "      <td id=\"T_a64c5_row9_col0\" class=\"data row9 col0\" >Preprocess</td>\n",
       "      <td id=\"T_a64c5_row9_col1\" class=\"data row9 col1\" >True</td>\n",
       "    </tr>\n",
       "    <tr>\n",
       "      <th id=\"T_a64c5_level0_row10\" class=\"row_heading level0 row10\" >10</th>\n",
       "      <td id=\"T_a64c5_row10_col0\" class=\"data row10 col0\" >Imputation type</td>\n",
       "      <td id=\"T_a64c5_row10_col1\" class=\"data row10 col1\" >simple</td>\n",
       "    </tr>\n",
       "    <tr>\n",
       "      <th id=\"T_a64c5_level0_row11\" class=\"row_heading level0 row11\" >11</th>\n",
       "      <td id=\"T_a64c5_row11_col0\" class=\"data row11 col0\" >Numeric imputation</td>\n",
       "      <td id=\"T_a64c5_row11_col1\" class=\"data row11 col1\" >mean</td>\n",
       "    </tr>\n",
       "    <tr>\n",
       "      <th id=\"T_a64c5_level0_row12\" class=\"row_heading level0 row12\" >12</th>\n",
       "      <td id=\"T_a64c5_row12_col0\" class=\"data row12 col0\" >Categorical imputation</td>\n",
       "      <td id=\"T_a64c5_row12_col1\" class=\"data row12 col1\" >mode</td>\n",
       "    </tr>\n",
       "    <tr>\n",
       "      <th id=\"T_a64c5_level0_row13\" class=\"row_heading level0 row13\" >13</th>\n",
       "      <td id=\"T_a64c5_row13_col0\" class=\"data row13 col0\" >Fold Generator</td>\n",
       "      <td id=\"T_a64c5_row13_col1\" class=\"data row13 col1\" >StratifiedKFold</td>\n",
       "    </tr>\n",
       "    <tr>\n",
       "      <th id=\"T_a64c5_level0_row14\" class=\"row_heading level0 row14\" >14</th>\n",
       "      <td id=\"T_a64c5_row14_col0\" class=\"data row14 col0\" >Fold Number</td>\n",
       "      <td id=\"T_a64c5_row14_col1\" class=\"data row14 col1\" >10</td>\n",
       "    </tr>\n",
       "    <tr>\n",
       "      <th id=\"T_a64c5_level0_row15\" class=\"row_heading level0 row15\" >15</th>\n",
       "      <td id=\"T_a64c5_row15_col0\" class=\"data row15 col0\" >CPU Jobs</td>\n",
       "      <td id=\"T_a64c5_row15_col1\" class=\"data row15 col1\" >-1</td>\n",
       "    </tr>\n",
       "    <tr>\n",
       "      <th id=\"T_a64c5_level0_row16\" class=\"row_heading level0 row16\" >16</th>\n",
       "      <td id=\"T_a64c5_row16_col0\" class=\"data row16 col0\" >Use GPU</td>\n",
       "      <td id=\"T_a64c5_row16_col1\" class=\"data row16 col1\" >False</td>\n",
       "    </tr>\n",
       "    <tr>\n",
       "      <th id=\"T_a64c5_level0_row17\" class=\"row_heading level0 row17\" >17</th>\n",
       "      <td id=\"T_a64c5_row17_col0\" class=\"data row17 col0\" >Log Experiment</td>\n",
       "      <td id=\"T_a64c5_row17_col1\" class=\"data row17 col1\" >False</td>\n",
       "    </tr>\n",
       "    <tr>\n",
       "      <th id=\"T_a64c5_level0_row18\" class=\"row_heading level0 row18\" >18</th>\n",
       "      <td id=\"T_a64c5_row18_col0\" class=\"data row18 col0\" >Experiment Name</td>\n",
       "      <td id=\"T_a64c5_row18_col1\" class=\"data row18 col1\" >clf-default-name</td>\n",
       "    </tr>\n",
       "    <tr>\n",
       "      <th id=\"T_a64c5_level0_row19\" class=\"row_heading level0 row19\" >19</th>\n",
       "      <td id=\"T_a64c5_row19_col0\" class=\"data row19 col0\" >USI</td>\n",
       "      <td id=\"T_a64c5_row19_col1\" class=\"data row19 col1\" >c8ed</td>\n",
       "    </tr>\n",
       "  </tbody>\n",
       "</table>\n"
      ],
      "text/plain": [
       "<pandas.io.formats.style.Styler at 0x24043e660b0>"
      ]
     },
     "metadata": {},
     "output_type": "display_data"
    }
   ],
   "source": [
    "experiment = setup(\n",
    "    data=train,  # the dataframe with the data\n",
    "    target=15  # the last column is the target\n",
    "    # categorical_features= [col1, col3, col5]  # columns with categorical data\n",
    ")  # setup the experiment"
   ]
  },
  {
   "cell_type": "code",
   "execution_count": 69,
   "metadata": {},
   "outputs": [
    {
     "data": {
      "text/html": [
       "<div>\n",
       "<style scoped>\n",
       "    .dataframe tbody tr th:only-of-type {\n",
       "        vertical-align: middle;\n",
       "    }\n",
       "\n",
       "    .dataframe tbody tr th {\n",
       "        vertical-align: top;\n",
       "    }\n",
       "\n",
       "    .dataframe thead th {\n",
       "        text-align: right;\n",
       "    }\n",
       "</style>\n",
       "<table border=\"1\" class=\"dataframe\">\n",
       "  <thead>\n",
       "    <tr style=\"text-align: right;\">\n",
       "      <th></th>\n",
       "      <th></th>\n",
       "      <th></th>\n",
       "    </tr>\n",
       "    <tr>\n",
       "      <th></th>\n",
       "      <th></th>\n",
       "      <th></th>\n",
       "    </tr>\n",
       "  </thead>\n",
       "  <tbody>\n",
       "    <tr>\n",
       "      <th>Initiated</th>\n",
       "      <td>. . . . . . . . . . . . . . . . . .</td>\n",
       "      <td>19:13:15</td>\n",
       "    </tr>\n",
       "    <tr>\n",
       "      <th>Status</th>\n",
       "      <td>. . . . . . . . . . . . . . . . . .</td>\n",
       "      <td>Loading Estimator</td>\n",
       "    </tr>\n",
       "    <tr>\n",
       "      <th>Estimator</th>\n",
       "      <td>. . . . . . . . . . . . . . . . . .</td>\n",
       "      <td>Logistic Regression</td>\n",
       "    </tr>\n",
       "  </tbody>\n",
       "</table>\n",
       "</div>"
      ],
      "text/plain": [
       "                                                                   \n",
       "                                                                   \n",
       "Initiated  . . . . . . . . . . . . . . . . . .             19:13:15\n",
       "Status     . . . . . . . . . . . . . . . . . .    Loading Estimator\n",
       "Estimator  . . . . . . . . . . . . . . . . . .  Logistic Regression"
      ]
     },
     "metadata": {},
     "output_type": "display_data"
    },
    {
     "data": {
      "text/html": [
       "<style type=\"text/css\">\n",
       "#T_580c5 th {\n",
       "  text-align: left;\n",
       "}\n",
       "#T_580c5_row0_col0, #T_580c5_row0_col2, #T_580c5_row0_col3, #T_580c5_row0_col4, #T_580c5_row1_col0, #T_580c5_row1_col1, #T_580c5_row1_col3, #T_580c5_row1_col5, #T_580c5_row1_col6, #T_580c5_row1_col7, #T_580c5_row2_col0, #T_580c5_row2_col1, #T_580c5_row2_col2, #T_580c5_row2_col3, #T_580c5_row2_col4, #T_580c5_row2_col5, #T_580c5_row2_col6, #T_580c5_row2_col7, #T_580c5_row3_col0, #T_580c5_row3_col1, #T_580c5_row3_col2, #T_580c5_row3_col3, #T_580c5_row3_col4, #T_580c5_row3_col5, #T_580c5_row3_col6, #T_580c5_row3_col7, #T_580c5_row4_col0, #T_580c5_row4_col1, #T_580c5_row4_col2, #T_580c5_row4_col3, #T_580c5_row4_col4, #T_580c5_row4_col5, #T_580c5_row4_col6, #T_580c5_row4_col7, #T_580c5_row5_col0, #T_580c5_row5_col1, #T_580c5_row5_col2, #T_580c5_row5_col3, #T_580c5_row5_col4, #T_580c5_row5_col5, #T_580c5_row5_col6, #T_580c5_row5_col7, #T_580c5_row6_col0, #T_580c5_row6_col1, #T_580c5_row6_col2, #T_580c5_row6_col3, #T_580c5_row6_col4, #T_580c5_row6_col5, #T_580c5_row6_col6, #T_580c5_row6_col7, #T_580c5_row7_col0, #T_580c5_row7_col1, #T_580c5_row7_col2, #T_580c5_row7_col3, #T_580c5_row7_col4, #T_580c5_row7_col5, #T_580c5_row7_col6, #T_580c5_row7_col7, #T_580c5_row8_col0, #T_580c5_row8_col1, #T_580c5_row8_col2, #T_580c5_row8_col3, #T_580c5_row8_col4, #T_580c5_row8_col5, #T_580c5_row8_col6, #T_580c5_row8_col7, #T_580c5_row9_col0, #T_580c5_row9_col1, #T_580c5_row9_col2, #T_580c5_row9_col3, #T_580c5_row9_col4, #T_580c5_row9_col5, #T_580c5_row9_col6, #T_580c5_row9_col7, #T_580c5_row10_col0, #T_580c5_row10_col1, #T_580c5_row10_col2, #T_580c5_row10_col3, #T_580c5_row10_col4, #T_580c5_row10_col5, #T_580c5_row10_col6, #T_580c5_row10_col7, #T_580c5_row11_col0, #T_580c5_row11_col1, #T_580c5_row11_col2, #T_580c5_row11_col3, #T_580c5_row11_col4, #T_580c5_row11_col5, #T_580c5_row11_col6, #T_580c5_row11_col7, #T_580c5_row12_col0, #T_580c5_row12_col1, #T_580c5_row12_col2, #T_580c5_row12_col3, #T_580c5_row12_col4, #T_580c5_row12_col5, #T_580c5_row12_col6, #T_580c5_row12_col7, #T_580c5_row13_col0, #T_580c5_row13_col1, #T_580c5_row13_col2, #T_580c5_row13_col4, #T_580c5_row13_col5, #T_580c5_row13_col6, #T_580c5_row13_col7, #T_580c5_row14_col0, #T_580c5_row14_col1, #T_580c5_row14_col2, #T_580c5_row14_col3, #T_580c5_row14_col4, #T_580c5_row14_col5, #T_580c5_row14_col6, #T_580c5_row14_col7 {\n",
       "  text-align: left;\n",
       "}\n",
       "#T_580c5_row0_col1, #T_580c5_row0_col5, #T_580c5_row0_col6, #T_580c5_row0_col7, #T_580c5_row1_col2, #T_580c5_row1_col4, #T_580c5_row13_col3 {\n",
       "  text-align: left;\n",
       "  background-color: yellow;\n",
       "}\n",
       "#T_580c5_row0_col8, #T_580c5_row1_col8, #T_580c5_row2_col8, #T_580c5_row3_col8, #T_580c5_row4_col8, #T_580c5_row5_col8, #T_580c5_row6_col8, #T_580c5_row7_col8, #T_580c5_row8_col8, #T_580c5_row9_col8, #T_580c5_row10_col8, #T_580c5_row11_col8, #T_580c5_row12_col8, #T_580c5_row13_col8 {\n",
       "  text-align: left;\n",
       "  background-color: lightgrey;\n",
       "}\n",
       "#T_580c5_row14_col8 {\n",
       "  text-align: left;\n",
       "  background-color: yellow;\n",
       "  background-color: lightgrey;\n",
       "}\n",
       "</style>\n",
       "<table id=\"T_580c5\">\n",
       "  <thead>\n",
       "    <tr>\n",
       "      <th class=\"blank level0\" >&nbsp;</th>\n",
       "      <th id=\"T_580c5_level0_col0\" class=\"col_heading level0 col0\" >Model</th>\n",
       "      <th id=\"T_580c5_level0_col1\" class=\"col_heading level0 col1\" >Accuracy</th>\n",
       "      <th id=\"T_580c5_level0_col2\" class=\"col_heading level0 col2\" >AUC</th>\n",
       "      <th id=\"T_580c5_level0_col3\" class=\"col_heading level0 col3\" >Recall</th>\n",
       "      <th id=\"T_580c5_level0_col4\" class=\"col_heading level0 col4\" >Prec.</th>\n",
       "      <th id=\"T_580c5_level0_col5\" class=\"col_heading level0 col5\" >F1</th>\n",
       "      <th id=\"T_580c5_level0_col6\" class=\"col_heading level0 col6\" >Kappa</th>\n",
       "      <th id=\"T_580c5_level0_col7\" class=\"col_heading level0 col7\" >MCC</th>\n",
       "      <th id=\"T_580c5_level0_col8\" class=\"col_heading level0 col8\" >TT (Sec)</th>\n",
       "    </tr>\n",
       "  </thead>\n",
       "  <tbody>\n",
       "    <tr>\n",
       "      <th id=\"T_580c5_level0_row0\" class=\"row_heading level0 row0\" >knn</th>\n",
       "      <td id=\"T_580c5_row0_col0\" class=\"data row0 col0\" >K Neighbors Classifier</td>\n",
       "      <td id=\"T_580c5_row0_col1\" class=\"data row0 col1\" >0.8457</td>\n",
       "      <td id=\"T_580c5_row0_col2\" class=\"data row0 col2\" >0.9186</td>\n",
       "      <td id=\"T_580c5_row0_col3\" class=\"data row0 col3\" >0.7973</td>\n",
       "      <td id=\"T_580c5_row0_col4\" class=\"data row0 col4\" >0.8503</td>\n",
       "      <td id=\"T_580c5_row0_col5\" class=\"data row0 col5\" >0.8228</td>\n",
       "      <td id=\"T_580c5_row0_col6\" class=\"data row0 col6\" >0.6865</td>\n",
       "      <td id=\"T_580c5_row0_col7\" class=\"data row0 col7\" >0.6877</td>\n",
       "      <td id=\"T_580c5_row0_col8\" class=\"data row0 col8\" >0.1700</td>\n",
       "    </tr>\n",
       "    <tr>\n",
       "      <th id=\"T_580c5_level0_row1\" class=\"row_heading level0 row1\" >et</th>\n",
       "      <td id=\"T_580c5_row1_col0\" class=\"data row1 col0\" >Extra Trees Classifier</td>\n",
       "      <td id=\"T_580c5_row1_col1\" class=\"data row1 col1\" >0.8390</td>\n",
       "      <td id=\"T_580c5_row1_col2\" class=\"data row1 col2\" >0.9206</td>\n",
       "      <td id=\"T_580c5_row1_col3\" class=\"data row1 col3\" >0.7480</td>\n",
       "      <td id=\"T_580c5_row1_col4\" class=\"data row1 col4\" >0.8759</td>\n",
       "      <td id=\"T_580c5_row1_col5\" class=\"data row1 col5\" >0.8067</td>\n",
       "      <td id=\"T_580c5_row1_col6\" class=\"data row1 col6\" >0.6703</td>\n",
       "      <td id=\"T_580c5_row1_col7\" class=\"data row1 col7\" >0.6766</td>\n",
       "      <td id=\"T_580c5_row1_col8\" class=\"data row1 col8\" >0.5520</td>\n",
       "    </tr>\n",
       "    <tr>\n",
       "      <th id=\"T_580c5_level0_row2\" class=\"row_heading level0 row2\" >xgboost</th>\n",
       "      <td id=\"T_580c5_row2_col0\" class=\"data row2 col0\" >Extreme Gradient Boosting</td>\n",
       "      <td id=\"T_580c5_row2_col1\" class=\"data row2 col1\" >0.8265</td>\n",
       "      <td id=\"T_580c5_row2_col2\" class=\"data row2 col2\" >0.9090</td>\n",
       "      <td id=\"T_580c5_row2_col3\" class=\"data row2 col3\" >0.7818</td>\n",
       "      <td id=\"T_580c5_row2_col4\" class=\"data row2 col4\" >0.8232</td>\n",
       "      <td id=\"T_580c5_row2_col5\" class=\"data row2 col5\" >0.8018</td>\n",
       "      <td id=\"T_580c5_row2_col6\" class=\"data row2 col6\" >0.6477</td>\n",
       "      <td id=\"T_580c5_row2_col7\" class=\"data row2 col7\" >0.6486</td>\n",
       "      <td id=\"T_580c5_row2_col8\" class=\"data row2 col8\" >0.7480</td>\n",
       "    </tr>\n",
       "    <tr>\n",
       "      <th id=\"T_580c5_level0_row3\" class=\"row_heading level0 row3\" >lightgbm</th>\n",
       "      <td id=\"T_580c5_row3_col0\" class=\"data row3 col0\" >Light Gradient Boosting Machine</td>\n",
       "      <td id=\"T_580c5_row3_col1\" class=\"data row3 col1\" >0.8258</td>\n",
       "      <td id=\"T_580c5_row3_col2\" class=\"data row3 col2\" >0.9040</td>\n",
       "      <td id=\"T_580c5_row3_col3\" class=\"data row3 col3\" >0.7684</td>\n",
       "      <td id=\"T_580c5_row3_col4\" class=\"data row3 col4\" >0.8314</td>\n",
       "      <td id=\"T_580c5_row3_col5\" class=\"data row3 col5\" >0.7984</td>\n",
       "      <td id=\"T_580c5_row3_col6\" class=\"data row3 col6\" >0.6455</td>\n",
       "      <td id=\"T_580c5_row3_col7\" class=\"data row3 col7\" >0.6473</td>\n",
       "      <td id=\"T_580c5_row3_col8\" class=\"data row3 col8\" >0.2270</td>\n",
       "    </tr>\n",
       "    <tr>\n",
       "      <th id=\"T_580c5_level0_row4\" class=\"row_heading level0 row4\" >rf</th>\n",
       "      <td id=\"T_580c5_row4_col0\" class=\"data row4 col0\" >Random Forest Classifier</td>\n",
       "      <td id=\"T_580c5_row4_col1\" class=\"data row4 col1\" >0.8242</td>\n",
       "      <td id=\"T_580c5_row4_col2\" class=\"data row4 col2\" >0.9045</td>\n",
       "      <td id=\"T_580c5_row4_col3\" class=\"data row4 col3\" >0.7416</td>\n",
       "      <td id=\"T_580c5_row4_col4\" class=\"data row4 col4\" >0.8481</td>\n",
       "      <td id=\"T_580c5_row4_col5\" class=\"data row4 col5\" >0.7910</td>\n",
       "      <td id=\"T_580c5_row4_col6\" class=\"data row4 col6\" >0.6405</td>\n",
       "      <td id=\"T_580c5_row4_col7\" class=\"data row4 col7\" >0.6451</td>\n",
       "      <td id=\"T_580c5_row4_col8\" class=\"data row4 col8\" >0.9370</td>\n",
       "    </tr>\n",
       "    <tr>\n",
       "      <th id=\"T_580c5_level0_row5\" class=\"row_heading level0 row5\" >gbc</th>\n",
       "      <td id=\"T_580c5_row5_col0\" class=\"data row5 col0\" >Gradient Boosting Classifier</td>\n",
       "      <td id=\"T_580c5_row5_col1\" class=\"data row5 col1\" >0.7636</td>\n",
       "      <td id=\"T_580c5_row5_col2\" class=\"data row5 col2\" >0.8424</td>\n",
       "      <td id=\"T_580c5_row5_col3\" class=\"data row5 col3\" >0.6696</td>\n",
       "      <td id=\"T_580c5_row5_col4\" class=\"data row5 col4\" >0.7738</td>\n",
       "      <td id=\"T_580c5_row5_col5\" class=\"data row5 col5\" >0.7176</td>\n",
       "      <td id=\"T_580c5_row5_col6\" class=\"data row5 col6\" >0.5161</td>\n",
       "      <td id=\"T_580c5_row5_col7\" class=\"data row5 col7\" >0.5204</td>\n",
       "      <td id=\"T_580c5_row5_col8\" class=\"data row5 col8\" >1.4730</td>\n",
       "    </tr>\n",
       "    <tr>\n",
       "      <th id=\"T_580c5_level0_row6\" class=\"row_heading level0 row6\" >dt</th>\n",
       "      <td id=\"T_580c5_row6_col0\" class=\"data row6 col0\" >Decision Tree Classifier</td>\n",
       "      <td id=\"T_580c5_row6_col1\" class=\"data row6 col1\" >0.7311</td>\n",
       "      <td id=\"T_580c5_row6_col2\" class=\"data row6 col2\" >0.7286</td>\n",
       "      <td id=\"T_580c5_row6_col3\" class=\"data row6 col3\" >0.7049</td>\n",
       "      <td id=\"T_580c5_row6_col4\" class=\"data row6 col4\" >0.6995</td>\n",
       "      <td id=\"T_580c5_row6_col5\" class=\"data row6 col5\" >0.7019</td>\n",
       "      <td id=\"T_580c5_row6_col6\" class=\"data row6 col6\" >0.4569</td>\n",
       "      <td id=\"T_580c5_row6_col7\" class=\"data row6 col7\" >0.4573</td>\n",
       "      <td id=\"T_580c5_row6_col8\" class=\"data row6 col8\" >0.1550</td>\n",
       "    </tr>\n",
       "    <tr>\n",
       "      <th id=\"T_580c5_level0_row7\" class=\"row_heading level0 row7\" >ada</th>\n",
       "      <td id=\"T_580c5_row7_col0\" class=\"data row7 col0\" >Ada Boost Classifier</td>\n",
       "      <td id=\"T_580c5_row7_col1\" class=\"data row7 col1\" >0.7122</td>\n",
       "      <td id=\"T_580c5_row7_col2\" class=\"data row7 col2\" >0.7797</td>\n",
       "      <td id=\"T_580c5_row7_col3\" class=\"data row7 col3\" >0.6362</td>\n",
       "      <td id=\"T_580c5_row7_col4\" class=\"data row7 col4\" >0.6973</td>\n",
       "      <td id=\"T_580c5_row7_col5\" class=\"data row7 col5\" >0.6651</td>\n",
       "      <td id=\"T_580c5_row7_col6\" class=\"data row7 col6\" >0.4137</td>\n",
       "      <td id=\"T_580c5_row7_col7\" class=\"data row7 col7\" >0.4153</td>\n",
       "      <td id=\"T_580c5_row7_col8\" class=\"data row7 col8\" >0.4530</td>\n",
       "    </tr>\n",
       "    <tr>\n",
       "      <th id=\"T_580c5_level0_row8\" class=\"row_heading level0 row8\" >lr</th>\n",
       "      <td id=\"T_580c5_row8_col0\" class=\"data row8 col0\" >Logistic Regression</td>\n",
       "      <td id=\"T_580c5_row8_col1\" class=\"data row8 col1\" >0.6164</td>\n",
       "      <td id=\"T_580c5_row8_col2\" class=\"data row8 col2\" >0.6507</td>\n",
       "      <td id=\"T_580c5_row8_col3\" class=\"data row8 col3\" >0.4474</td>\n",
       "      <td id=\"T_580c5_row8_col4\" class=\"data row8 col4\" >0.5974</td>\n",
       "      <td id=\"T_580c5_row8_col5\" class=\"data row8 col5\" >0.5116</td>\n",
       "      <td id=\"T_580c5_row8_col6\" class=\"data row8 col6\" >0.2063</td>\n",
       "      <td id=\"T_580c5_row8_col7\" class=\"data row8 col7\" >0.2122</td>\n",
       "      <td id=\"T_580c5_row8_col8\" class=\"data row8 col8\" >0.8790</td>\n",
       "    </tr>\n",
       "    <tr>\n",
       "      <th id=\"T_580c5_level0_row9\" class=\"row_heading level0 row9\" >lda</th>\n",
       "      <td id=\"T_580c5_row9_col0\" class=\"data row9 col0\" >Linear Discriminant Analysis</td>\n",
       "      <td id=\"T_580c5_row9_col1\" class=\"data row9 col1\" >0.6146</td>\n",
       "      <td id=\"T_580c5_row9_col2\" class=\"data row9 col2\" >0.6520</td>\n",
       "      <td id=\"T_580c5_row9_col3\" class=\"data row9 col3\" >0.4386</td>\n",
       "      <td id=\"T_580c5_row9_col4\" class=\"data row9 col4\" >0.5966</td>\n",
       "      <td id=\"T_580c5_row9_col5\" class=\"data row9 col5\" >0.5054</td>\n",
       "      <td id=\"T_580c5_row9_col6\" class=\"data row9 col6\" >0.2016</td>\n",
       "      <td id=\"T_580c5_row9_col7\" class=\"data row9 col7\" >0.2081</td>\n",
       "      <td id=\"T_580c5_row9_col8\" class=\"data row9 col8\" >0.1430</td>\n",
       "    </tr>\n",
       "    <tr>\n",
       "      <th id=\"T_580c5_level0_row10\" class=\"row_heading level0 row10\" >ridge</th>\n",
       "      <td id=\"T_580c5_row10_col0\" class=\"data row10 col0\" >Ridge Classifier</td>\n",
       "      <td id=\"T_580c5_row10_col1\" class=\"data row10 col1\" >0.6134</td>\n",
       "      <td id=\"T_580c5_row10_col2\" class=\"data row10 col2\" >0.0000</td>\n",
       "      <td id=\"T_580c5_row10_col3\" class=\"data row10 col3\" >0.4374</td>\n",
       "      <td id=\"T_580c5_row10_col4\" class=\"data row10 col4\" >0.5947</td>\n",
       "      <td id=\"T_580c5_row10_col5\" class=\"data row10 col5\" >0.5039</td>\n",
       "      <td id=\"T_580c5_row10_col6\" class=\"data row10 col6\" >0.1991</td>\n",
       "      <td id=\"T_580c5_row10_col7\" class=\"data row10 col7\" >0.2055</td>\n",
       "      <td id=\"T_580c5_row10_col8\" class=\"data row10 col8\" >0.1340</td>\n",
       "    </tr>\n",
       "    <tr>\n",
       "      <th id=\"T_580c5_level0_row11\" class=\"row_heading level0 row11\" >dummy</th>\n",
       "      <td id=\"T_580c5_row11_col0\" class=\"data row11 col0\" >Dummy Classifier</td>\n",
       "      <td id=\"T_580c5_row11_col1\" class=\"data row11 col1\" >0.5509</td>\n",
       "      <td id=\"T_580c5_row11_col2\" class=\"data row11 col2\" >0.5000</td>\n",
       "      <td id=\"T_580c5_row11_col3\" class=\"data row11 col3\" >0.0000</td>\n",
       "      <td id=\"T_580c5_row11_col4\" class=\"data row11 col4\" >0.0000</td>\n",
       "      <td id=\"T_580c5_row11_col5\" class=\"data row11 col5\" >0.0000</td>\n",
       "      <td id=\"T_580c5_row11_col6\" class=\"data row11 col6\" >0.0000</td>\n",
       "      <td id=\"T_580c5_row11_col7\" class=\"data row11 col7\" >0.0000</td>\n",
       "      <td id=\"T_580c5_row11_col8\" class=\"data row11 col8\" >0.1600</td>\n",
       "    </tr>\n",
       "    <tr>\n",
       "      <th id=\"T_580c5_level0_row12\" class=\"row_heading level0 row12\" >svm</th>\n",
       "      <td id=\"T_580c5_row12_col0\" class=\"data row12 col0\" >SVM - Linear Kernel</td>\n",
       "      <td id=\"T_580c5_row12_col1\" class=\"data row12 col1\" >0.5442</td>\n",
       "      <td id=\"T_580c5_row12_col2\" class=\"data row12 col2\" >0.0000</td>\n",
       "      <td id=\"T_580c5_row12_col3\" class=\"data row12 col3\" >0.4222</td>\n",
       "      <td id=\"T_580c5_row12_col4\" class=\"data row12 col4\" >0.5441</td>\n",
       "      <td id=\"T_580c5_row12_col5\" class=\"data row12 col5\" >0.3538</td>\n",
       "      <td id=\"T_580c5_row12_col6\" class=\"data row12 col6\" >0.0693</td>\n",
       "      <td id=\"T_580c5_row12_col7\" class=\"data row12 col7\" >0.0929</td>\n",
       "      <td id=\"T_580c5_row12_col8\" class=\"data row12 col8\" >0.1510</td>\n",
       "    </tr>\n",
       "    <tr>\n",
       "      <th id=\"T_580c5_level0_row13\" class=\"row_heading level0 row13\" >qda</th>\n",
       "      <td id=\"T_580c5_row13_col0\" class=\"data row13 col0\" >Quadratic Discriminant Analysis</td>\n",
       "      <td id=\"T_580c5_row13_col1\" class=\"data row13 col1\" >0.4818</td>\n",
       "      <td id=\"T_580c5_row13_col2\" class=\"data row13 col2\" >0.7422</td>\n",
       "      <td id=\"T_580c5_row13_col3\" class=\"data row13 col3\" >0.9897</td>\n",
       "      <td id=\"T_580c5_row13_col4\" class=\"data row13 col4\" >0.4657</td>\n",
       "      <td id=\"T_580c5_row13_col5\" class=\"data row13 col5\" >0.6325</td>\n",
       "      <td id=\"T_580c5_row13_col6\" class=\"data row13 col6\" >0.0528</td>\n",
       "      <td id=\"T_580c5_row13_col7\" class=\"data row13 col7\" >0.1374</td>\n",
       "      <td id=\"T_580c5_row13_col8\" class=\"data row13 col8\" >0.1450</td>\n",
       "    </tr>\n",
       "    <tr>\n",
       "      <th id=\"T_580c5_level0_row14\" class=\"row_heading level0 row14\" >nb</th>\n",
       "      <td id=\"T_580c5_row14_col0\" class=\"data row14 col0\" >Naive Bayes</td>\n",
       "      <td id=\"T_580c5_row14_col1\" class=\"data row14 col1\" >0.4579</td>\n",
       "      <td id=\"T_580c5_row14_col2\" class=\"data row14 col2\" >0.4893</td>\n",
       "      <td id=\"T_580c5_row14_col3\" class=\"data row14 col3\" >0.9544</td>\n",
       "      <td id=\"T_580c5_row14_col4\" class=\"data row14 col4\" >0.4511</td>\n",
       "      <td id=\"T_580c5_row14_col5\" class=\"data row14 col5\" >0.6125</td>\n",
       "      <td id=\"T_580c5_row14_col6\" class=\"data row14 col6\" >0.0067</td>\n",
       "      <td id=\"T_580c5_row14_col7\" class=\"data row14 col7\" >0.0199</td>\n",
       "      <td id=\"T_580c5_row14_col8\" class=\"data row14 col8\" >0.1300</td>\n",
       "    </tr>\n",
       "  </tbody>\n",
       "</table>\n"
      ],
      "text/plain": [
       "<pandas.io.formats.style.Styler at 0x2404163e080>"
      ]
     },
     "metadata": {},
     "output_type": "display_data"
    }
   ],
   "source": [
    "best_model = compare_models()  # in this step we are comparing all the models for classification and we are picking the best one\n",
    "# we will get a small table with all the models used and the all the metrics for each model\n",
    "# the output is really wierd because the RF, DT and ada have very shitty metrics, considerably lower then the output we had when did it alone\n"
   ]
  },
  {
   "cell_type": "code",
   "execution_count": 70,
   "metadata": {},
   "outputs": [
    {
     "data": {
      "text/html": [
       "<div>\n",
       "<style scoped>\n",
       "    .dataframe tbody tr th:only-of-type {\n",
       "        vertical-align: middle;\n",
       "    }\n",
       "\n",
       "    .dataframe tbody tr th {\n",
       "        vertical-align: top;\n",
       "    }\n",
       "\n",
       "    .dataframe thead th {\n",
       "        text-align: right;\n",
       "    }\n",
       "</style>\n",
       "<table border=\"1\" class=\"dataframe\">\n",
       "  <thead>\n",
       "    <tr style=\"text-align: right;\">\n",
       "      <th></th>\n",
       "      <th></th>\n",
       "      <th></th>\n",
       "    </tr>\n",
       "    <tr>\n",
       "      <th></th>\n",
       "      <th></th>\n",
       "      <th></th>\n",
       "    </tr>\n",
       "  </thead>\n",
       "  <tbody>\n",
       "    <tr>\n",
       "      <th>Initiated</th>\n",
       "      <td>. . . . . . . . . . . . . . . . . .</td>\n",
       "      <td>19:16:10</td>\n",
       "    </tr>\n",
       "    <tr>\n",
       "      <th>Status</th>\n",
       "      <td>. . . . . . . . . . . . . . . . . .</td>\n",
       "      <td>Searching Hyperparameters</td>\n",
       "    </tr>\n",
       "    <tr>\n",
       "      <th>Estimator</th>\n",
       "      <td>. . . . . . . . . . . . . . . . . .</td>\n",
       "      <td>K Neighbors Classifier</td>\n",
       "    </tr>\n",
       "  </tbody>\n",
       "</table>\n",
       "</div>"
      ],
      "text/plain": [
       "                                                                         \n",
       "                                                                         \n",
       "Initiated  . . . . . . . . . . . . . . . . . .                   19:16:10\n",
       "Status     . . . . . . . . . . . . . . . . . .  Searching Hyperparameters\n",
       "Estimator  . . . . . . . . . . . . . . . . . .     K Neighbors Classifier"
      ]
     },
     "metadata": {},
     "output_type": "display_data"
    },
    {
     "data": {
      "text/html": [
       "<style type=\"text/css\">\n",
       "#T_71d81_row10_col0, #T_71d81_row10_col1, #T_71d81_row10_col2, #T_71d81_row10_col3, #T_71d81_row10_col4, #T_71d81_row10_col5, #T_71d81_row10_col6 {\n",
       "  background: yellow;\n",
       "}\n",
       "</style>\n",
       "<table id=\"T_71d81\">\n",
       "  <thead>\n",
       "    <tr>\n",
       "      <th class=\"blank level0\" >&nbsp;</th>\n",
       "      <th id=\"T_71d81_level0_col0\" class=\"col_heading level0 col0\" >Accuracy</th>\n",
       "      <th id=\"T_71d81_level0_col1\" class=\"col_heading level0 col1\" >AUC</th>\n",
       "      <th id=\"T_71d81_level0_col2\" class=\"col_heading level0 col2\" >Recall</th>\n",
       "      <th id=\"T_71d81_level0_col3\" class=\"col_heading level0 col3\" >Prec.</th>\n",
       "      <th id=\"T_71d81_level0_col4\" class=\"col_heading level0 col4\" >F1</th>\n",
       "      <th id=\"T_71d81_level0_col5\" class=\"col_heading level0 col5\" >Kappa</th>\n",
       "      <th id=\"T_71d81_level0_col6\" class=\"col_heading level0 col6\" >MCC</th>\n",
       "    </tr>\n",
       "    <tr>\n",
       "      <th class=\"index_name level0\" >Fold</th>\n",
       "      <th class=\"blank col0\" >&nbsp;</th>\n",
       "      <th class=\"blank col1\" >&nbsp;</th>\n",
       "      <th class=\"blank col2\" >&nbsp;</th>\n",
       "      <th class=\"blank col3\" >&nbsp;</th>\n",
       "      <th class=\"blank col4\" >&nbsp;</th>\n",
       "      <th class=\"blank col5\" >&nbsp;</th>\n",
       "      <th class=\"blank col6\" >&nbsp;</th>\n",
       "    </tr>\n",
       "  </thead>\n",
       "  <tbody>\n",
       "    <tr>\n",
       "      <th id=\"T_71d81_level0_row0\" class=\"row_heading level0 row0\" >0</th>\n",
       "      <td id=\"T_71d81_row0_col0\" class=\"data row0 col0\" >0.8445</td>\n",
       "      <td id=\"T_71d81_row0_col1\" class=\"data row0 col1\" >0.9362</td>\n",
       "      <td id=\"T_71d81_row0_col2\" class=\"data row0 col2\" >0.7933</td>\n",
       "      <td id=\"T_71d81_row0_col3\" class=\"data row0 col3\" >0.8502</td>\n",
       "      <td id=\"T_71d81_row0_col4\" class=\"data row0 col4\" >0.8208</td>\n",
       "      <td id=\"T_71d81_row0_col5\" class=\"data row0 col5\" >0.6837</td>\n",
       "      <td id=\"T_71d81_row0_col6\" class=\"data row0 col6\" >0.6850</td>\n",
       "    </tr>\n",
       "    <tr>\n",
       "      <th id=\"T_71d81_level0_row1\" class=\"row_heading level0 row1\" >1</th>\n",
       "      <td id=\"T_71d81_row1_col0\" class=\"data row1 col0\" >0.8718</td>\n",
       "      <td id=\"T_71d81_row1_col1\" class=\"data row1 col1\" >0.9447</td>\n",
       "      <td id=\"T_71d81_row1_col2\" class=\"data row1 col2\" >0.7903</td>\n",
       "      <td id=\"T_71d81_row1_col3\" class=\"data row1 col3\" >0.9123</td>\n",
       "      <td id=\"T_71d81_row1_col4\" class=\"data row1 col4\" >0.8469</td>\n",
       "      <td id=\"T_71d81_row1_col5\" class=\"data row1 col5\" >0.7375</td>\n",
       "      <td id=\"T_71d81_row1_col6\" class=\"data row1 col6\" >0.7432</td>\n",
       "    </tr>\n",
       "    <tr>\n",
       "      <th id=\"T_71d81_level0_row2\" class=\"row_heading level0 row2\" >2</th>\n",
       "      <td id=\"T_71d81_row2_col0\" class=\"data row2 col0\" >0.8363</td>\n",
       "      <td id=\"T_71d81_row2_col1\" class=\"data row2 col1\" >0.9221</td>\n",
       "      <td id=\"T_71d81_row2_col2\" class=\"data row2 col2\" >0.7812</td>\n",
       "      <td id=\"T_71d81_row2_col3\" class=\"data row2 col3\" >0.8426</td>\n",
       "      <td id=\"T_71d81_row2_col4\" class=\"data row2 col4\" >0.8107</td>\n",
       "      <td id=\"T_71d81_row2_col5\" class=\"data row2 col5\" >0.6669</td>\n",
       "      <td id=\"T_71d81_row2_col6\" class=\"data row2 col6\" >0.6683</td>\n",
       "    </tr>\n",
       "    <tr>\n",
       "      <th id=\"T_71d81_level0_row3\" class=\"row_heading level0 row3\" >3</th>\n",
       "      <td id=\"T_71d81_row3_col0\" class=\"data row3 col0\" >0.8581</td>\n",
       "      <td id=\"T_71d81_row3_col1\" class=\"data row3 col1\" >0.9339</td>\n",
       "      <td id=\"T_71d81_row3_col2\" class=\"data row3 col2\" >0.7872</td>\n",
       "      <td id=\"T_71d81_row3_col3\" class=\"data row3 col3\" >0.8840</td>\n",
       "      <td id=\"T_71d81_row3_col4\" class=\"data row3 col4\" >0.8328</td>\n",
       "      <td id=\"T_71d81_row3_col5\" class=\"data row3 col5\" >0.7103</td>\n",
       "      <td id=\"T_71d81_row3_col6\" class=\"data row3 col6\" >0.7139</td>\n",
       "    </tr>\n",
       "    <tr>\n",
       "      <th id=\"T_71d81_level0_row4\" class=\"row_heading level0 row4\" >4</th>\n",
       "      <td id=\"T_71d81_row4_col0\" class=\"data row4 col0\" >0.8622</td>\n",
       "      <td id=\"T_71d81_row4_col1\" class=\"data row4 col1\" >0.9388</td>\n",
       "      <td id=\"T_71d81_row4_col2\" class=\"data row4 col2\" >0.8085</td>\n",
       "      <td id=\"T_71d81_row4_col3\" class=\"data row4 col3\" >0.8750</td>\n",
       "      <td id=\"T_71d81_row4_col4\" class=\"data row4 col4\" >0.8404</td>\n",
       "      <td id=\"T_71d81_row4_col5\" class=\"data row4 col5\" >0.7195</td>\n",
       "      <td id=\"T_71d81_row4_col6\" class=\"data row4 col6\" >0.7213</td>\n",
       "    </tr>\n",
       "    <tr>\n",
       "      <th id=\"T_71d81_level0_row5\" class=\"row_heading level0 row5\" >5</th>\n",
       "      <td id=\"T_71d81_row5_col0\" class=\"data row5 col0\" >0.8402</td>\n",
       "      <td id=\"T_71d81_row5_col1\" class=\"data row5 col1\" >0.9211</td>\n",
       "      <td id=\"T_71d81_row5_col2\" class=\"data row5 col2\" >0.7781</td>\n",
       "      <td id=\"T_71d81_row5_col3\" class=\"data row5 col3\" >0.8533</td>\n",
       "      <td id=\"T_71d81_row5_col4\" class=\"data row5 col4\" >0.8140</td>\n",
       "      <td id=\"T_71d81_row5_col5\" class=\"data row5 col5\" >0.6744</td>\n",
       "      <td id=\"T_71d81_row5_col6\" class=\"data row5 col6\" >0.6766</td>\n",
       "    </tr>\n",
       "    <tr>\n",
       "      <th id=\"T_71d81_level0_row6\" class=\"row_heading level0 row6\" >6</th>\n",
       "      <td id=\"T_71d81_row6_col0\" class=\"data row6 col0\" >0.8648</td>\n",
       "      <td id=\"T_71d81_row6_col1\" class=\"data row6 col1\" >0.9352</td>\n",
       "      <td id=\"T_71d81_row6_col2\" class=\"data row6 col2\" >0.8116</td>\n",
       "      <td id=\"T_71d81_row6_col3\" class=\"data row6 col3\" >0.8783</td>\n",
       "      <td id=\"T_71d81_row6_col4\" class=\"data row6 col4\" >0.8436</td>\n",
       "      <td id=\"T_71d81_row6_col5\" class=\"data row6 col5\" >0.7248</td>\n",
       "      <td id=\"T_71d81_row6_col6\" class=\"data row6 col6\" >0.7266</td>\n",
       "    </tr>\n",
       "    <tr>\n",
       "      <th id=\"T_71d81_level0_row7\" class=\"row_heading level0 row7\" >7</th>\n",
       "      <td id=\"T_71d81_row7_col0\" class=\"data row7 col0\" >0.8415</td>\n",
       "      <td id=\"T_71d81_row7_col1\" class=\"data row7 col1\" >0.9278</td>\n",
       "      <td id=\"T_71d81_row7_col2\" class=\"data row7 col2\" >0.7629</td>\n",
       "      <td id=\"T_71d81_row7_col3\" class=\"data row7 col3\" >0.8685</td>\n",
       "      <td id=\"T_71d81_row7_col4\" class=\"data row7 col4\" >0.8123</td>\n",
       "      <td id=\"T_71d81_row7_col5\" class=\"data row7 col5\" >0.6762</td>\n",
       "      <td id=\"T_71d81_row7_col6\" class=\"data row7 col6\" >0.6804</td>\n",
       "    </tr>\n",
       "    <tr>\n",
       "      <th id=\"T_71d81_level0_row8\" class=\"row_heading level0 row8\" >8</th>\n",
       "      <td id=\"T_71d81_row8_col0\" class=\"data row8 col0\" >0.8620</td>\n",
       "      <td id=\"T_71d81_row8_col1\" class=\"data row8 col1\" >0.9359</td>\n",
       "      <td id=\"T_71d81_row8_col2\" class=\"data row8 col2\" >0.8116</td>\n",
       "      <td id=\"T_71d81_row8_col3\" class=\"data row8 col3\" >0.8725</td>\n",
       "      <td id=\"T_71d81_row8_col4\" class=\"data row8 col4\" >0.8409</td>\n",
       "      <td id=\"T_71d81_row8_col5\" class=\"data row8 col5\" >0.7194</td>\n",
       "      <td id=\"T_71d81_row8_col6\" class=\"data row8 col6\" >0.7209</td>\n",
       "    </tr>\n",
       "    <tr>\n",
       "      <th id=\"T_71d81_level0_row9\" class=\"row_heading level0 row9\" >9</th>\n",
       "      <td id=\"T_71d81_row9_col0\" class=\"data row9 col0\" >0.8525</td>\n",
       "      <td id=\"T_71d81_row9_col1\" class=\"data row9 col1\" >0.9348</td>\n",
       "      <td id=\"T_71d81_row9_col2\" class=\"data row9 col2\" >0.7812</td>\n",
       "      <td id=\"T_71d81_row9_col3\" class=\"data row9 col3\" >0.8771</td>\n",
       "      <td id=\"T_71d81_row9_col4\" class=\"data row9 col4\" >0.8264</td>\n",
       "      <td id=\"T_71d81_row9_col5\" class=\"data row9 col5\" >0.6988</td>\n",
       "      <td id=\"T_71d81_row9_col6\" class=\"data row9 col6\" >0.7024</td>\n",
       "    </tr>\n",
       "    <tr>\n",
       "      <th id=\"T_71d81_level0_row10\" class=\"row_heading level0 row10\" >Mean</th>\n",
       "      <td id=\"T_71d81_row10_col0\" class=\"data row10 col0\" >0.8534</td>\n",
       "      <td id=\"T_71d81_row10_col1\" class=\"data row10 col1\" >0.9331</td>\n",
       "      <td id=\"T_71d81_row10_col2\" class=\"data row10 col2\" >0.7906</td>\n",
       "      <td id=\"T_71d81_row10_col3\" class=\"data row10 col3\" >0.8714</td>\n",
       "      <td id=\"T_71d81_row10_col4\" class=\"data row10 col4\" >0.8289</td>\n",
       "      <td id=\"T_71d81_row10_col5\" class=\"data row10 col5\" >0.7012</td>\n",
       "      <td id=\"T_71d81_row10_col6\" class=\"data row10 col6\" >0.7038</td>\n",
       "    </tr>\n",
       "    <tr>\n",
       "      <th id=\"T_71d81_level0_row11\" class=\"row_heading level0 row11\" >Std</th>\n",
       "      <td id=\"T_71d81_row11_col0\" class=\"data row11 col0\" >0.0115</td>\n",
       "      <td id=\"T_71d81_row11_col1\" class=\"data row11 col1\" >0.0070</td>\n",
       "      <td id=\"T_71d81_row11_col2\" class=\"data row11 col2\" >0.0152</td>\n",
       "      <td id=\"T_71d81_row11_col3\" class=\"data row11 col3\" >0.0188</td>\n",
       "      <td id=\"T_71d81_row11_col4\" class=\"data row11 col4\" >0.0132</td>\n",
       "      <td id=\"T_71d81_row11_col5\" class=\"data row11 col5\" >0.0234</td>\n",
       "      <td id=\"T_71d81_row11_col6\" class=\"data row11 col6\" >0.0238</td>\n",
       "    </tr>\n",
       "  </tbody>\n",
       "</table>\n"
      ],
      "text/plain": [
       "<pandas.io.formats.style.Styler at 0x2403d8dbbb0>"
      ]
     },
     "metadata": {},
     "output_type": "display_data"
    },
    {
     "data": {
      "text/html": [
       "<style type=\"text/css\">\n",
       "#T_71d81_row10_col0, #T_71d81_row10_col1, #T_71d81_row10_col2, #T_71d81_row10_col3, #T_71d81_row10_col4, #T_71d81_row10_col5, #T_71d81_row10_col6 {\n",
       "  background: yellow;\n",
       "}\n",
       "</style>\n",
       "<table id=\"T_71d81\">\n",
       "  <thead>\n",
       "    <tr>\n",
       "      <th class=\"blank level0\" >&nbsp;</th>\n",
       "      <th id=\"T_71d81_level0_col0\" class=\"col_heading level0 col0\" >Accuracy</th>\n",
       "      <th id=\"T_71d81_level0_col1\" class=\"col_heading level0 col1\" >AUC</th>\n",
       "      <th id=\"T_71d81_level0_col2\" class=\"col_heading level0 col2\" >Recall</th>\n",
       "      <th id=\"T_71d81_level0_col3\" class=\"col_heading level0 col3\" >Prec.</th>\n",
       "      <th id=\"T_71d81_level0_col4\" class=\"col_heading level0 col4\" >F1</th>\n",
       "      <th id=\"T_71d81_level0_col5\" class=\"col_heading level0 col5\" >Kappa</th>\n",
       "      <th id=\"T_71d81_level0_col6\" class=\"col_heading level0 col6\" >MCC</th>\n",
       "    </tr>\n",
       "    <tr>\n",
       "      <th class=\"index_name level0\" >Fold</th>\n",
       "      <th class=\"blank col0\" >&nbsp;</th>\n",
       "      <th class=\"blank col1\" >&nbsp;</th>\n",
       "      <th class=\"blank col2\" >&nbsp;</th>\n",
       "      <th class=\"blank col3\" >&nbsp;</th>\n",
       "      <th class=\"blank col4\" >&nbsp;</th>\n",
       "      <th class=\"blank col5\" >&nbsp;</th>\n",
       "      <th class=\"blank col6\" >&nbsp;</th>\n",
       "    </tr>\n",
       "  </thead>\n",
       "  <tbody>\n",
       "    <tr>\n",
       "      <th id=\"T_71d81_level0_row0\" class=\"row_heading level0 row0\" >0</th>\n",
       "      <td id=\"T_71d81_row0_col0\" class=\"data row0 col0\" >0.8445</td>\n",
       "      <td id=\"T_71d81_row0_col1\" class=\"data row0 col1\" >0.9362</td>\n",
       "      <td id=\"T_71d81_row0_col2\" class=\"data row0 col2\" >0.7933</td>\n",
       "      <td id=\"T_71d81_row0_col3\" class=\"data row0 col3\" >0.8502</td>\n",
       "      <td id=\"T_71d81_row0_col4\" class=\"data row0 col4\" >0.8208</td>\n",
       "      <td id=\"T_71d81_row0_col5\" class=\"data row0 col5\" >0.6837</td>\n",
       "      <td id=\"T_71d81_row0_col6\" class=\"data row0 col6\" >0.6850</td>\n",
       "    </tr>\n",
       "    <tr>\n",
       "      <th id=\"T_71d81_level0_row1\" class=\"row_heading level0 row1\" >1</th>\n",
       "      <td id=\"T_71d81_row1_col0\" class=\"data row1 col0\" >0.8718</td>\n",
       "      <td id=\"T_71d81_row1_col1\" class=\"data row1 col1\" >0.9447</td>\n",
       "      <td id=\"T_71d81_row1_col2\" class=\"data row1 col2\" >0.7903</td>\n",
       "      <td id=\"T_71d81_row1_col3\" class=\"data row1 col3\" >0.9123</td>\n",
       "      <td id=\"T_71d81_row1_col4\" class=\"data row1 col4\" >0.8469</td>\n",
       "      <td id=\"T_71d81_row1_col5\" class=\"data row1 col5\" >0.7375</td>\n",
       "      <td id=\"T_71d81_row1_col6\" class=\"data row1 col6\" >0.7432</td>\n",
       "    </tr>\n",
       "    <tr>\n",
       "      <th id=\"T_71d81_level0_row2\" class=\"row_heading level0 row2\" >2</th>\n",
       "      <td id=\"T_71d81_row2_col0\" class=\"data row2 col0\" >0.8363</td>\n",
       "      <td id=\"T_71d81_row2_col1\" class=\"data row2 col1\" >0.9221</td>\n",
       "      <td id=\"T_71d81_row2_col2\" class=\"data row2 col2\" >0.7812</td>\n",
       "      <td id=\"T_71d81_row2_col3\" class=\"data row2 col3\" >0.8426</td>\n",
       "      <td id=\"T_71d81_row2_col4\" class=\"data row2 col4\" >0.8107</td>\n",
       "      <td id=\"T_71d81_row2_col5\" class=\"data row2 col5\" >0.6669</td>\n",
       "      <td id=\"T_71d81_row2_col6\" class=\"data row2 col6\" >0.6683</td>\n",
       "    </tr>\n",
       "    <tr>\n",
       "      <th id=\"T_71d81_level0_row3\" class=\"row_heading level0 row3\" >3</th>\n",
       "      <td id=\"T_71d81_row3_col0\" class=\"data row3 col0\" >0.8581</td>\n",
       "      <td id=\"T_71d81_row3_col1\" class=\"data row3 col1\" >0.9339</td>\n",
       "      <td id=\"T_71d81_row3_col2\" class=\"data row3 col2\" >0.7872</td>\n",
       "      <td id=\"T_71d81_row3_col3\" class=\"data row3 col3\" >0.8840</td>\n",
       "      <td id=\"T_71d81_row3_col4\" class=\"data row3 col4\" >0.8328</td>\n",
       "      <td id=\"T_71d81_row3_col5\" class=\"data row3 col5\" >0.7103</td>\n",
       "      <td id=\"T_71d81_row3_col6\" class=\"data row3 col6\" >0.7139</td>\n",
       "    </tr>\n",
       "    <tr>\n",
       "      <th id=\"T_71d81_level0_row4\" class=\"row_heading level0 row4\" >4</th>\n",
       "      <td id=\"T_71d81_row4_col0\" class=\"data row4 col0\" >0.8622</td>\n",
       "      <td id=\"T_71d81_row4_col1\" class=\"data row4 col1\" >0.9388</td>\n",
       "      <td id=\"T_71d81_row4_col2\" class=\"data row4 col2\" >0.8085</td>\n",
       "      <td id=\"T_71d81_row4_col3\" class=\"data row4 col3\" >0.8750</td>\n",
       "      <td id=\"T_71d81_row4_col4\" class=\"data row4 col4\" >0.8404</td>\n",
       "      <td id=\"T_71d81_row4_col5\" class=\"data row4 col5\" >0.7195</td>\n",
       "      <td id=\"T_71d81_row4_col6\" class=\"data row4 col6\" >0.7213</td>\n",
       "    </tr>\n",
       "    <tr>\n",
       "      <th id=\"T_71d81_level0_row5\" class=\"row_heading level0 row5\" >5</th>\n",
       "      <td id=\"T_71d81_row5_col0\" class=\"data row5 col0\" >0.8402</td>\n",
       "      <td id=\"T_71d81_row5_col1\" class=\"data row5 col1\" >0.9211</td>\n",
       "      <td id=\"T_71d81_row5_col2\" class=\"data row5 col2\" >0.7781</td>\n",
       "      <td id=\"T_71d81_row5_col3\" class=\"data row5 col3\" >0.8533</td>\n",
       "      <td id=\"T_71d81_row5_col4\" class=\"data row5 col4\" >0.8140</td>\n",
       "      <td id=\"T_71d81_row5_col5\" class=\"data row5 col5\" >0.6744</td>\n",
       "      <td id=\"T_71d81_row5_col6\" class=\"data row5 col6\" >0.6766</td>\n",
       "    </tr>\n",
       "    <tr>\n",
       "      <th id=\"T_71d81_level0_row6\" class=\"row_heading level0 row6\" >6</th>\n",
       "      <td id=\"T_71d81_row6_col0\" class=\"data row6 col0\" >0.8648</td>\n",
       "      <td id=\"T_71d81_row6_col1\" class=\"data row6 col1\" >0.9352</td>\n",
       "      <td id=\"T_71d81_row6_col2\" class=\"data row6 col2\" >0.8116</td>\n",
       "      <td id=\"T_71d81_row6_col3\" class=\"data row6 col3\" >0.8783</td>\n",
       "      <td id=\"T_71d81_row6_col4\" class=\"data row6 col4\" >0.8436</td>\n",
       "      <td id=\"T_71d81_row6_col5\" class=\"data row6 col5\" >0.7248</td>\n",
       "      <td id=\"T_71d81_row6_col6\" class=\"data row6 col6\" >0.7266</td>\n",
       "    </tr>\n",
       "    <tr>\n",
       "      <th id=\"T_71d81_level0_row7\" class=\"row_heading level0 row7\" >7</th>\n",
       "      <td id=\"T_71d81_row7_col0\" class=\"data row7 col0\" >0.8415</td>\n",
       "      <td id=\"T_71d81_row7_col1\" class=\"data row7 col1\" >0.9278</td>\n",
       "      <td id=\"T_71d81_row7_col2\" class=\"data row7 col2\" >0.7629</td>\n",
       "      <td id=\"T_71d81_row7_col3\" class=\"data row7 col3\" >0.8685</td>\n",
       "      <td id=\"T_71d81_row7_col4\" class=\"data row7 col4\" >0.8123</td>\n",
       "      <td id=\"T_71d81_row7_col5\" class=\"data row7 col5\" >0.6762</td>\n",
       "      <td id=\"T_71d81_row7_col6\" class=\"data row7 col6\" >0.6804</td>\n",
       "    </tr>\n",
       "    <tr>\n",
       "      <th id=\"T_71d81_level0_row8\" class=\"row_heading level0 row8\" >8</th>\n",
       "      <td id=\"T_71d81_row8_col0\" class=\"data row8 col0\" >0.8620</td>\n",
       "      <td id=\"T_71d81_row8_col1\" class=\"data row8 col1\" >0.9359</td>\n",
       "      <td id=\"T_71d81_row8_col2\" class=\"data row8 col2\" >0.8116</td>\n",
       "      <td id=\"T_71d81_row8_col3\" class=\"data row8 col3\" >0.8725</td>\n",
       "      <td id=\"T_71d81_row8_col4\" class=\"data row8 col4\" >0.8409</td>\n",
       "      <td id=\"T_71d81_row8_col5\" class=\"data row8 col5\" >0.7194</td>\n",
       "      <td id=\"T_71d81_row8_col6\" class=\"data row8 col6\" >0.7209</td>\n",
       "    </tr>\n",
       "    <tr>\n",
       "      <th id=\"T_71d81_level0_row9\" class=\"row_heading level0 row9\" >9</th>\n",
       "      <td id=\"T_71d81_row9_col0\" class=\"data row9 col0\" >0.8525</td>\n",
       "      <td id=\"T_71d81_row9_col1\" class=\"data row9 col1\" >0.9348</td>\n",
       "      <td id=\"T_71d81_row9_col2\" class=\"data row9 col2\" >0.7812</td>\n",
       "      <td id=\"T_71d81_row9_col3\" class=\"data row9 col3\" >0.8771</td>\n",
       "      <td id=\"T_71d81_row9_col4\" class=\"data row9 col4\" >0.8264</td>\n",
       "      <td id=\"T_71d81_row9_col5\" class=\"data row9 col5\" >0.6988</td>\n",
       "      <td id=\"T_71d81_row9_col6\" class=\"data row9 col6\" >0.7024</td>\n",
       "    </tr>\n",
       "    <tr>\n",
       "      <th id=\"T_71d81_level0_row10\" class=\"row_heading level0 row10\" >Mean</th>\n",
       "      <td id=\"T_71d81_row10_col0\" class=\"data row10 col0\" >0.8534</td>\n",
       "      <td id=\"T_71d81_row10_col1\" class=\"data row10 col1\" >0.9331</td>\n",
       "      <td id=\"T_71d81_row10_col2\" class=\"data row10 col2\" >0.7906</td>\n",
       "      <td id=\"T_71d81_row10_col3\" class=\"data row10 col3\" >0.8714</td>\n",
       "      <td id=\"T_71d81_row10_col4\" class=\"data row10 col4\" >0.8289</td>\n",
       "      <td id=\"T_71d81_row10_col5\" class=\"data row10 col5\" >0.7012</td>\n",
       "      <td id=\"T_71d81_row10_col6\" class=\"data row10 col6\" >0.7038</td>\n",
       "    </tr>\n",
       "    <tr>\n",
       "      <th id=\"T_71d81_level0_row11\" class=\"row_heading level0 row11\" >Std</th>\n",
       "      <td id=\"T_71d81_row11_col0\" class=\"data row11 col0\" >0.0115</td>\n",
       "      <td id=\"T_71d81_row11_col1\" class=\"data row11 col1\" >0.0070</td>\n",
       "      <td id=\"T_71d81_row11_col2\" class=\"data row11 col2\" >0.0152</td>\n",
       "      <td id=\"T_71d81_row11_col3\" class=\"data row11 col3\" >0.0188</td>\n",
       "      <td id=\"T_71d81_row11_col4\" class=\"data row11 col4\" >0.0132</td>\n",
       "      <td id=\"T_71d81_row11_col5\" class=\"data row11 col5\" >0.0234</td>\n",
       "      <td id=\"T_71d81_row11_col6\" class=\"data row11 col6\" >0.0238</td>\n",
       "    </tr>\n",
       "  </tbody>\n",
       "</table>\n"
      ],
      "text/plain": [
       "<pandas.io.formats.style.Styler at 0x2403d8dbbb0>"
      ]
     },
     "metadata": {},
     "output_type": "display_data"
    },
    {
     "name": "stdout",
     "output_type": "stream",
     "text": [
      "Fitting 10 folds for each of 10 candidates, totalling 100 fits\n"
     ]
    }
   ],
   "source": [
    "# in case we dont like the output, we can tune the model\n",
    "best_model = tune_model(best_model, optimize=\"Accuracy\")  # we are tuning the model to get the best accuracy"
   ]
  },
  {
   "cell_type": "code",
   "execution_count": 79,
   "metadata": {},
   "outputs": [
    {
     "data": {
      "text/html": [],
      "text/plain": [
       "<IPython.core.display.HTML object>"
      ]
     },
     "metadata": {},
     "output_type": "display_data"
    }
   ],
   "source": [
    "pred = predict_model(best_model, test)"
   ]
  },
  {
   "cell_type": "code",
   "execution_count": 88,
   "metadata": {},
   "outputs": [
    {
     "name": "stdout",
     "output_type": "stream",
     "text": [
      "\n",
      "Accuracy: 0.8969737427681352\n",
      "Recall: 0.9254032258064516\n",
      "Precision: 0.8919549164399534\n",
      "F1: 0.90837126459529\n",
      "\n"
     ]
    }
   ],
   "source": [
    "# print the metricst\n",
    "print(f\"\"\"\n",
    "Accuracy: {accuracy_score(pred['16'], pred['prediction_label'])}\n",
    "Recall: {recall_score(pred['16'], pred['prediction_label'])}\n",
    "Precision: {precision_score(pred['16'], pred['prediction_label'])}\n",
    "F1: {f1_score(pred['16'], pred['prediction_label'])}\n",
    "\"\"\")"
   ]
  },
  {
   "cell_type": "code",
   "execution_count": 89,
   "metadata": {},
   "outputs": [
    {
     "name": "stdout",
     "output_type": "stream",
     "text": [
      "Transformation Pipeline and Model Successfully Saved\n",
      "Transformation Pipeline and Model Successfully Loaded\n"
     ]
    },
    {
     "data": {
      "text/plain": [
       "0       1\n",
       "1       2\n",
       "2       2\n",
       "3       1\n",
       "4       1\n",
       "       ..\n",
       "4489    2\n",
       "4490    2\n",
       "4491    2\n",
       "4492    1\n",
       "4493    1\n",
       "Name: 16, Length: 4494, dtype: int64"
      ]
     },
     "execution_count": 89,
     "metadata": {},
     "output_type": "execute_result"
    }
   ],
   "source": [
    "# also to save the model\n",
    "save_model(model=best_model, model_name=\"best_model\")\n",
    "# and if we want to load it\n",
    "model = load_model(\"best_model\")\n",
    "# and if we want to use it\n",
    "model.predict(X_test)"
   ]
  }
 ],
 "metadata": {
  "kernelspec": {
   "display_name": "venv",
   "language": "python",
   "name": "python3"
  },
  "language_info": {
   "codemirror_mode": {
    "name": "ipython",
    "version": 3
   },
   "file_extension": ".py",
   "mimetype": "text/x-python",
   "name": "python",
   "nbconvert_exporter": "python",
   "pygments_lexer": "ipython3",
   "version": "3.10.5"
  },
  "orig_nbformat": 4,
  "vscode": {
   "interpreter": {
    "hash": "cf924b6a03e9bad6c51d65aafe119745fbec1d5cafc14ff7009632efeebdb1d0"
   }
  }
 },
 "nbformat": 4,
 "nbformat_minor": 2
}
